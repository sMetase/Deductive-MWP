{
 "cells": [
  {
   "cell_type": "code",
   "execution_count": 1,
   "id": "f3138e25",
   "metadata": {},
   "outputs": [],
   "source": [
    "path = \"/home/smetase/test/math23k\""
   ]
  },
  {
   "cell_type": "code",
   "execution_count": 2,
   "id": "66c840ae",
   "metadata": {},
   "outputs": [
    {
     "name": "stderr",
     "output_type": "stream",
     "text": [
      "Some weights of the model checkpoint at /home/smetase/test/math23k were not used when initializing UniversalModel: ['const_rep']\n",
      "- This IS expected if you are initializing UniversalModel from the checkpoint of a model trained on another task or with another architecture (e.g. initializing a BertForSequenceClassification model from a BertForPreTraining model).\n",
      "- This IS NOT expected if you are initializing UniversalModel from the checkpoint of a model that you expect to be exactly identical (initializing a BertForSequenceClassification model from a BertForSequenceClassification model).\n"
     ]
    }
   ],
   "source": [
    "import torch\n",
    "from transformers import BertTokenizerFast\n",
    "from src.model.universal_model import UniversalModel\n",
    "\n",
    "# 加载训练好的模型和分词器\n",
    "tokenizer = BertTokenizerFast.from_pretrained(\"hfl/chinese-bert-wwm-ext\")\n",
    "model = UniversalModel.from_pretrained(path)\n"
   ]
  },
  {
   "cell_type": "code",
   "execution_count": 5,
   "id": "e05e117e",
   "metadata": {},
   "outputs": [
    {
     "ename": "AttributeError",
     "evalue": "'NoneType' object has no attribute 'size'",
     "output_type": "error",
     "traceback": [
      "\u001b[0;31m---------------------------------------------------------------------------\u001b[0m",
      "\u001b[0;31mAttributeError\u001b[0m                            Traceback (most recent call last)",
      "Cell \u001b[0;32mIn[5], line 9\u001b[0m\n\u001b[1;32m      7\u001b[0m \u001b[39m# 使用模型进行预测，并获取预测结果\u001b[39;00m\n\u001b[1;32m      8\u001b[0m model\u001b[39m.\u001b[39meval()\n\u001b[0;32m----> 9\u001b[0m outputs \u001b[39m=\u001b[39m model(\u001b[39m*\u001b[39;49m\u001b[39m*\u001b[39;49minputs)\n\u001b[1;32m     10\u001b[0m logits \u001b[39m=\u001b[39m outputs\u001b[39m.\u001b[39mlogits\n\u001b[1;32m     11\u001b[0m predictions \u001b[39m=\u001b[39m torch\u001b[39m.\u001b[39margmax(logits, dim\u001b[39m=\u001b[39m\u001b[39m1\u001b[39m)\n",
      "File \u001b[0;32m~/miniconda3/envs/test/lib/python3.10/site-packages/torch/nn/modules/module.py:1501\u001b[0m, in \u001b[0;36mModule._call_impl\u001b[0;34m(self, *args, **kwargs)\u001b[0m\n\u001b[1;32m   1496\u001b[0m \u001b[39m# If we don't have any hooks, we want to skip the rest of the logic in\u001b[39;00m\n\u001b[1;32m   1497\u001b[0m \u001b[39m# this function, and just call forward.\u001b[39;00m\n\u001b[1;32m   1498\u001b[0m \u001b[39mif\u001b[39;00m \u001b[39mnot\u001b[39;00m (\u001b[39mself\u001b[39m\u001b[39m.\u001b[39m_backward_hooks \u001b[39mor\u001b[39;00m \u001b[39mself\u001b[39m\u001b[39m.\u001b[39m_backward_pre_hooks \u001b[39mor\u001b[39;00m \u001b[39mself\u001b[39m\u001b[39m.\u001b[39m_forward_hooks \u001b[39mor\u001b[39;00m \u001b[39mself\u001b[39m\u001b[39m.\u001b[39m_forward_pre_hooks\n\u001b[1;32m   1499\u001b[0m         \u001b[39mor\u001b[39;00m _global_backward_pre_hooks \u001b[39mor\u001b[39;00m _global_backward_hooks\n\u001b[1;32m   1500\u001b[0m         \u001b[39mor\u001b[39;00m _global_forward_hooks \u001b[39mor\u001b[39;00m _global_forward_pre_hooks):\n\u001b[0;32m-> 1501\u001b[0m     \u001b[39mreturn\u001b[39;00m forward_call(\u001b[39m*\u001b[39;49margs, \u001b[39m*\u001b[39;49m\u001b[39m*\u001b[39;49mkwargs)\n\u001b[1;32m   1502\u001b[0m \u001b[39m# Do not call functions when jit is used\u001b[39;00m\n\u001b[1;32m   1503\u001b[0m full_backward_hooks, non_full_backward_hooks \u001b[39m=\u001b[39m [], []\n",
      "File \u001b[0;32m~/Projects/Deductive-MWP/src/model/universal_model.py:338\u001b[0m, in \u001b[0;36mUniversalModel.forward\u001b[0;34m(self, input_ids, attention_mask, token_type_ids, position_ids, variable_indexs_start, variable_indexs_end, num_variables, variable_index_mask, head_mask, inputs_embeds, labels, label_height_mask, output_attentions, output_hidden_states, return_dict, is_eval)\u001b[0m\n\u001b[1;32m    319\u001b[0m \u001b[39mdef\u001b[39;00m \u001b[39mforward\u001b[39m(\u001b[39mself\u001b[39m,\n\u001b[1;32m    320\u001b[0m     input_ids\u001b[39m=\u001b[39m\u001b[39mNone\u001b[39;00m, \u001b[39m## batch_size  x max_seq_length\u001b[39;00m\n\u001b[1;32m    321\u001b[0m     attention_mask\u001b[39m=\u001b[39m\u001b[39mNone\u001b[39;00m,\n\u001b[0;32m   (...)\u001b[0m\n\u001b[1;32m    336\u001b[0m     is_eval\u001b[39m=\u001b[39m\u001b[39mFalse\u001b[39;00m\n\u001b[1;32m    337\u001b[0m ):\n\u001b[0;32m--> 338\u001b[0m     \u001b[39mreturn\u001b[39;00m deductive_forward(\n\u001b[1;32m    339\u001b[0m         \u001b[39mself\u001b[39;49m,\n\u001b[1;32m    340\u001b[0m         \u001b[39mself\u001b[39;49m\u001b[39m.\u001b[39;49mbert,\n\u001b[1;32m    341\u001b[0m         input_ids,\n\u001b[1;32m    342\u001b[0m         attention_mask,\n\u001b[1;32m    343\u001b[0m         token_type_ids,\n\u001b[1;32m    344\u001b[0m         position_ids,\n\u001b[1;32m    345\u001b[0m         variable_indexs_start,\n\u001b[1;32m    346\u001b[0m         variable_indexs_end,\n\u001b[1;32m    347\u001b[0m         num_variables,\n\u001b[1;32m    348\u001b[0m         variable_index_mask,\n\u001b[1;32m    349\u001b[0m         head_mask,\n\u001b[1;32m    350\u001b[0m         inputs_embeds,\n\u001b[1;32m    351\u001b[0m         labels,\n\u001b[1;32m    352\u001b[0m         label_height_mask,\n\u001b[1;32m    353\u001b[0m         output_attentions,\n\u001b[1;32m    354\u001b[0m         output_hidden_states,\n\u001b[1;32m    355\u001b[0m         return_dict,\n\u001b[1;32m    356\u001b[0m         is_eval\n\u001b[1;32m    357\u001b[0m     )\n",
      "File \u001b[0;32m~/Projects/Deductive-MWP/src/model/universal_model.py:87\u001b[0m, in \u001b[0;36mdeductive_forward\u001b[0;34m(cls, encoder, input_ids, attention_mask, token_type_ids, position_ids, variable_indexs_start, variable_indexs_end, num_variables, variable_index_mask, head_mask, inputs_embeds, labels, label_height_mask, output_attentions, output_hidden_states, return_dict, is_eval)\u001b[0m\n\u001b[1;32m     84\u001b[0m \u001b[39melse\u001b[39;00m:\n\u001b[1;32m     85\u001b[0m     max_height \u001b[39m=\u001b[39m \u001b[39mcls\u001b[39m\u001b[39m.\u001b[39mmax_height\n\u001b[0;32m---> 87\u001b[0m _, max_num_variable \u001b[39m=\u001b[39m variable_indexs_start\u001b[39m.\u001b[39;49msize()\n\u001b[1;32m     89\u001b[0m var_sum \u001b[39m=\u001b[39m (variable_indexs_start \u001b[39m-\u001b[39m variable_indexs_end)\u001b[39m.\u001b[39msum()  \u001b[39m## if add <NUM>, we can just choose one as hidden_states\u001b[39;00m\n\u001b[1;32m     90\u001b[0m var_start_hidden_states \u001b[39m=\u001b[39m torch\u001b[39m.\u001b[39mgather(outputs\u001b[39m.\u001b[39mlast_hidden_state, \u001b[39m1\u001b[39m, variable_indexs_start\u001b[39m.\u001b[39munsqueeze(\u001b[39m-\u001b[39m\u001b[39m1\u001b[39m)\u001b[39m.\u001b[39mexpand(batch_size, max_num_variable, hidden_size))\n",
      "\u001b[0;31mAttributeError\u001b[0m: 'NoneType' object has no attribute 'size'"
     ]
    }
   ],
   "source": [
    "# 定义待预测的问题\n",
    "question = \"镇海 雅乐 学校 二年级 的 小朋友 到 一条 小路 的 一边 植树 ． 小朋友 们 每隔 2 米 种 一棵树 （ 马路 两头 都 种 了 树 ） ， 最后 发现 一共 种 了 11 棵 ， 这 条 小路 长 多少 米 ．\",\n",
    "num_list = [2, 11]\n",
    "# 对问题进行分词和编码，得到模型所需的输入\n",
    "inputs = tokenizer(question, padding='max_length', truncation=True, max_length=128, return_tensors='pt')\n",
    "\n",
    "# 使用模型进行预测，并获取预测结果\n",
    "model.eval()\n",
    "outputs = model(**inputs)\n",
    "logits = outputs.logits\n",
    "predictions = torch.argmax(logits, dim=1)\n",
    "print(predictions.item())"
   ]
  },
  {
   "cell_type": "code",
   "execution_count": null,
   "id": "ba8c10f1",
   "metadata": {},
   "outputs": [],
   "source": []
  }
 ],
 "metadata": {
  "kernelspec": {
   "display_name": "Python 3 (ipykernel)",
   "language": "python",
   "name": "python3"
  },
  "language_info": {
   "codemirror_mode": {
    "name": "ipython",
    "version": 3
   },
   "file_extension": ".py",
   "mimetype": "text/x-python",
   "name": "python",
   "nbconvert_exporter": "python",
   "pygments_lexer": "ipython3",
   "version": "3.10.11"
  }
 },
 "nbformat": 4,
 "nbformat_minor": 5
}
